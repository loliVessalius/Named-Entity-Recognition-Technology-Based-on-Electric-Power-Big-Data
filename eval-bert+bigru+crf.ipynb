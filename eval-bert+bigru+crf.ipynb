{
 "cells": [
  {
   "cell_type": "markdown",
   "id": "ccea5b67",
   "metadata": {
    "pycharm": {
     "name": "#%% md\n"
    }
   },
   "source": [
    "### 1、导包"
   ]
  },
  {
   "cell_type": "code",
   "execution_count": null,
   "id": "6a168d12",
   "metadata": {
    "execution": {
     "iopub.execute_input": "2023-04-17T02:38:35.972684Z",
     "iopub.status.busy": "2023-04-17T02:38:35.972114Z",
     "iopub.status.idle": "2023-04-17T02:38:38.835818Z",
     "shell.execute_reply": "2023-04-17T02:38:38.834884Z",
     "shell.execute_reply.started": "2023-04-17T02:38:35.972644Z"
    },
    "pycharm": {
     "name": "#%%\n"
    },
    "scrolled": true,
    "tags": []
   },
   "outputs": [],
   "source": [
    "# 导入paddle库\n",
    "import paddle\n",
    "import paddle.nn as nn\n",
    "# 导入paddlenlp的库\n",
    "from paddlenlp.transformers import  BertModel\n",
    "from paddlenlp.transformers import BertTokenizer,BertPretrainedModel\n",
    "\n",
    "from utils import gernate_dic,load_dicts,checkbioes\n",
    "# 读取数据\n",
    "from paddlenlp.layers.crf import LinearChainCrf, ViterbiDecoder, LinearChainCrfLoss\n",
    "# import  xlrd2 as xlrd\n",
    "import re\n"
   ]
  },
  {
   "cell_type": "markdown",
   "id": "d27ca802",
   "metadata": {
    "pycharm": {
     "name": "#%% md\n"
    }
   },
   "source": [
    "### 2、定义模型初始化方法"
   ]
  },
  {
   "cell_type": "code",
   "execution_count": null,
   "id": "5f246f2d",
   "metadata": {
    "execution": {
     "iopub.execute_input": "2023-04-17T02:38:38.838021Z",
     "iopub.status.busy": "2023-04-17T02:38:38.837491Z",
     "iopub.status.idle": "2023-04-17T02:38:38.846302Z",
     "shell.execute_reply": "2023-04-17T02:38:38.845452Z",
     "shell.execute_reply.started": "2023-04-17T02:38:38.837990Z"
    },
    "pycharm": {
     "name": "#%%\n"
    },
    "scrolled": true
   },
   "outputs": [],
   "source": [
    "class Bert_BiGRU_crf(BertPretrainedModel):\n",
    "\n",
    "    def __init__(self, bert,num_classes, gru_hidden_size, num_layers,dropout):\n",
    "        super(Bert_BiGRU_crf, self).__init__()\n",
    "        self.num_classes = num_classes\n",
    "        # 初始化bert\n",
    "        self.bert = bert  \n",
    "        # 初始化双向的lstm\n",
    "        self.gru = nn.GRU(self.bert.config[\"hidden_size\"],gru_hidden_size,num_layers,direction='bidirect',dropout=dropout)\n",
    "        \n",
    "        self.fc = nn.Linear(gru_hidden_size * 2, self.num_classes)\n",
    "\n",
    "        # crf层\n",
    "        self.crf = LinearChainCrf(\n",
    "            self.num_classes, crf_lr=100, with_start_stop_tag=False)\n",
    "        self.crf_loss = LinearChainCrfLoss(self.crf)\n",
    "        self.viterbi_decoder = ViterbiDecoder(\n",
    "            self.crf.transitions, with_start_stop_tag=False)\n",
    "\n",
    "    def forward(self,\n",
    "                input_ids,\n",
    "                token_type_ids,\n",
    "                lengths=None,\n",
    "                labels=None):\n",
    "        sequence_out, _ = self.bert(input_ids,\n",
    "                                    token_type_ids=token_type_ids)\n",
    "        lstm_output, _ = self.gru(sequence_out)\n",
    "        emission = self.fc(lstm_output)\n",
    "  \n",
    "        if labels is not None:\n",
    "            loss = self.crf_loss(emission, lengths, labels)\n",
    "            return loss\n",
    "        else:\n",
    "            _, prediction = self.viterbi_decoder(emission, lengths)\n",
    "            return prediction"
   ]
  },
  {
   "cell_type": "markdown",
   "id": "28744e2a",
   "metadata": {
    "pycharm": {
     "name": "#%% md\n"
    }
   },
   "source": [
    "### 3、初始化模型+加载模型"
   ]
  },
  {
   "cell_type": "code",
   "execution_count": null,
   "id": "04e7827b",
   "metadata": {
    "execution": {
     "iopub.execute_input": "2023-04-17T02:38:38.847708Z",
     "iopub.status.busy": "2023-04-17T02:38:38.847324Z",
     "iopub.status.idle": "2023-04-17T02:41:27.293057Z",
     "shell.execute_reply": "2023-04-17T02:41:27.291859Z",
     "shell.execute_reply.started": "2023-04-17T02:38:38.847594Z"
    },
    "pycharm": {
     "name": "#%%\n"
    },
    "scrolled": true
   },
   "outputs": [],
   "source": [
    "\n",
    "\n",
    "id2label,label2id,label_list = load_dicts('data1/tag.dic')\n",
    "print(id2label)\n",
    "print(label2id)\n",
    "print(label_list)\n",
    "\n",
    "\n",
    "#以下6个参数在在bilstm用到\n",
    "bigru_hidden_size, num_layers, num_labels, dropout = \\\n",
    "    256,2,len(list(id2label)),0.1\n",
    "\n",
    "label_num = len(label_list)\n",
    "no_entity_id = label_num - 1\n",
    "max_seq_length=128\n",
    "\n",
    "# 初始化模型\n",
    "model_name_or_path='bert-base-chinese'\n",
    "bert = BertModel.from_pretrained(model_name_or_path)\n",
    "bert_bigru_crf = Bert_BiGRU_crf(bert,label_num,bigru_hidden_size,num_layers,dropout)\n",
    "\n",
    "# 加载模型\n",
    "init_checkpoint_path='model/bert_bigru_crf.pdparams'\n",
    "model_dict = paddle.load(init_checkpoint_path)\n",
    "bert_bigru_crf.set_dict(model_dict)\n",
    "tokenizer = BertTokenizer.from_pretrained(model_name_or_path)"
   ]
  },
  {
   "cell_type": "markdown",
   "id": "849ea7cd",
   "metadata": {
    "pycharm": {
     "name": "#%% md\n"
    }
   },
   "source": [
    "### 4、解码"
   ]
  },
  {
   "cell_type": "code",
   "execution_count": null,
   "id": "9537a8ef",
   "metadata": {
    "execution": {
     "iopub.execute_input": "2023-04-17T02:41:27.295315Z",
     "iopub.status.busy": "2023-04-17T02:41:27.294798Z",
     "iopub.status.idle": "2023-04-17T02:41:27.307735Z",
     "shell.execute_reply": "2023-04-17T02:41:27.306475Z",
     "shell.execute_reply.started": "2023-04-17T02:41:27.295274Z"
    },
    "pycharm": {
     "name": "#%%\n"
    },
    "scrolled": true,
    "tags": []
   },
   "outputs": [],
   "source": [
    "# 解码\n",
    "def decode(sentence,preds):\n",
    "    sentence = sentence.lower()\n",
    "    word_dict = {}\n",
    "    end_flag = 0\n",
    "    tmp_type = ''\n",
    "    tmp_word = ''\n",
    "    for index ,item in enumerate(preds):\n",
    "        if item == 'O' and end_flag == 0:\n",
    "            continue\n",
    "        elif item == 'O' and end_flag == 1:\n",
    "            tmp_word = tmp_word + sentence[index]\n",
    "        elif item == 'S':\n",
    "            tmp_type = item.split('-')[1]\n",
    "            if tmp_type in word_dict:\n",
    "                word_dict[tmp_type] = word_dict[tmp_type] + ',' + sentence[index]\n",
    "            else:\n",
    "                word_dict[tmp_type] = sentence[index]\n",
    "        elif item.startswith('B'):\n",
    "            end_flag = 1\n",
    "            tmp_type = item.split('-')[1]\n",
    "            tmp_word = sentence[index]\n",
    "        elif item.startswith('E'):\n",
    "            end_flag = 0\n",
    "            tmp_word = tmp_word + sentence[index]\n",
    "            if len(tmp_word)>0:\n",
    "                if tmp_type in word_dict:\n",
    "                    word_dict[tmp_type] = word_dict[tmp_type] + ',' + tmp_word\n",
    "                else:\n",
    "                    word_dict[tmp_type] = tmp_word\n",
    "            tmp_word = ''\n",
    "            tmp_type = ''\n",
    "        elif item.startswith('I'):\n",
    "            if len(tmp_type)==0:\n",
    "                tmp_type = tmp_type = item.split('-')[1]\n",
    "                tmp_word = sentence[index]\n",
    "            else:\n",
    "                tmp_word = tmp_word + sentence[index]\n",
    "    \n",
    "    return word_dict"
   ]
  },
  {
   "cell_type": "markdown",
   "id": "8b294125",
   "metadata": {
    "pycharm": {
     "name": "#%% md\n"
    }
   },
   "source": [
    "### 5、预测"
   ]
  },
  {
   "cell_type": "code",
   "execution_count": null,
   "id": "fc35cf44",
   "metadata": {
    "execution": {
     "iopub.execute_input": "2023-04-17T02:41:27.311122Z",
     "iopub.status.busy": "2023-04-17T02:41:27.310682Z",
     "iopub.status.idle": "2023-04-17T02:41:27.319157Z",
     "shell.execute_reply": "2023-04-17T02:41:27.318208Z",
     "shell.execute_reply.started": "2023-04-17T02:41:27.311092Z"
    },
    "pycharm": {
     "name": "#%%\n"
    },
    "scrolled": true,
    "tags": []
   },
   "outputs": [],
   "source": [
    "def predict(text, tokenizer=tokenizer, no_entity_id=no_entity_id,max_seq_len=max_seq_length):\n",
    "    example=list(text)\n",
    "    example1 = tokenizer(\n",
    "        example,\n",
    "        return_length=True,\n",
    "        is_split_into_words=True,\n",
    "        max_seq_len=max_seq_len)\n",
    "    bert_bigru_crf.eval()\n",
    "   \n",
    "    input_ids=paddle.to_tensor([example1['input_ids']])\n",
    "    token_type_ids=paddle.to_tensor([example1['token_type_ids']])\n",
    "    length=example1['seq_len']\n",
    "    logits = bert_bigru_crf(input_ids, token_type_ids, paddle.to_tensor(length))\n",
    "    pred = logits.numpy()\n",
    "    sent = \"\".join(example)\n",
    "    tags = [id2label[x] for x in pred[0][1:length-1]]\n",
    "    str = decode(sent, checkbioes(tags))\n",
    "    return str\n"
   ]
  },
  {
   "cell_type": "code",
   "execution_count": null,
   "id": "8e4470de",
   "metadata": {
    "execution": {
     "iopub.execute_input": "2023-04-17T02:41:27.320707Z",
     "iopub.status.busy": "2023-04-17T02:41:27.320282Z",
     "iopub.status.idle": "2023-04-17T02:41:28.811643Z",
     "shell.execute_reply": "2023-04-17T02:41:28.810553Z",
     "shell.execute_reply.started": "2023-04-17T02:41:27.320680Z"
    },
    "pycharm": {
     "name": "#%%\n"
    },
    "scrolled": true,
    "tags": []
   },
   "outputs": [],
   "source": [
    "\n",
    "\n",
    "result = predict('华东电网公司2007年制定了智能电网发展计划。')\n",
    "print(result)\n",
    "\n",
    "result = predict('本次项目完成了信息集成平台建设，发展规划系统建设以及可视化辅助决策系统建设。')\n",
    "print(result)"
   ]
  },
  {
   "cell_type": "code",
   "execution_count": null,
   "id": "0c9467be-020d-4f22-b1dd-78772884aca1",
   "metadata": {
    "pycharm": {
     "name": "#%%\n"
    },
    "scrolled": true
   },
   "outputs": [],
   "source": []
  }
 ],
 "metadata": {
  "kernelspec": {
   "display_name": "tf2.1",
   "language": "python",
   "name": "tf2.1"
  },
  "language_info": {
   "codemirror_mode": {
    "name": "ipython",
    "version": 3
   },
   "file_extension": ".py",
   "mimetype": "text/x-python",
   "name": "python",
   "nbconvert_exporter": "python",
   "pygments_lexer": "ipython3",
   "version": "3.7.5"
  }
 },
 "nbformat": 4,
 "nbformat_minor": 5
}
